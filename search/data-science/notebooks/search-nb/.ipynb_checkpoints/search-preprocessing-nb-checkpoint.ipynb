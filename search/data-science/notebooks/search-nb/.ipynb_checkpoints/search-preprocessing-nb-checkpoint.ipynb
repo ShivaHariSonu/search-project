{
 "cells": [
  {
   "cell_type": "code",
   "execution_count": 1,
   "metadata": {
    "tags": []
   },
   "outputs": [],
   "source": [
    "import sys\n",
    "sys.path.append('..')\n",
    "from searchutil import *\n",
    "import os\n",
    "from IPython.display import display,HTML\n",
    "from pyspark.sql import SparkSession\n",
    "spark = SparkSession.builder.appName(\"setting-datasets\").getOrCreate()"
   ]
  },
  {
   "cell_type": "markdown",
   "metadata": {},
   "source": [
    "## Downloading the datasets for the Products Data"
   ]
  },
  {
   "cell_type": "code",
   "execution_count": 2,
   "metadata": {
    "tags": []
   },
   "outputs": [
    {
     "name": "stdout",
     "output_type": "stream",
     "text": [
      "\"upc\",\"name\",\"manufacturer\",\"shortDescription\",\"longDescription\"\n",
      "\"096009010836\",\"Fists of Bruce Lee - Dolby - DVD\",\\N,\\N,\\N\n",
      "\"043396061965\",\"The Professional - Widescreen Uncut - DVD\",\\N,\\N,\\N\n",
      "\"085391862024\",\"Pokemon the Movie: 2000 - DVD\",\\N,\\N,\\N\n",
      "\"067003016025\",\"Summerbreeze - CD\",\"Nettwerk\",\\N,\\N\n",
      "\"731454813822\",\"Back for the First Time [PA] - CD\",\"Def Jam South\",\\N,\\N\n",
      "\"024543008200\",\"Big Momma's House - Widescreen - DVD\",\\N,\\N,\\N\n",
      "\"031398751823\",\"Kids - DVD\",\\N,\\N,\\N\n",
      "\"037628413929\",\"20 Grandes Exitos - CD\",\"Sony Discos Inc.\",\\N,\\N\n",
      "\"060768972223\",\"Power Of Trinity (Box) - CD\",\"Sanctuary Records\",\\N,\\N\n"
     ]
    }
   ],
   "source": [
    "\n",
    "#Have downloaded the datasets of the products and signals and stored it in data folder.\n",
    "! cd ../data/retrotech/&& head products.csv"
   ]
  },
  {
   "cell_type": "markdown",
   "metadata": {},
   "source": [
    "## Storing Products dataset to Apache Solr using Spark Read CSV"
   ]
  },
  {
   "cell_type": "code",
   "execution_count": 3,
   "metadata": {
    "tags": []
   },
   "outputs": [
    {
     "name": "stdout",
     "output_type": "stream",
     "text": [
      "Wiping 'products' collection\n",
      "[('action', 'CREATE'), ('name', 'products'), ('numShards', 1), ('replicationFactor', 1)]\n",
      "Creating 'products' collection\n",
      "Status: Success\n",
      "Adding 'upc' field to collection\n",
      "Status: Success\n",
      "Adding 'name' field to collection\n",
      "Status: Success\n",
      "Adding 'longDescription' field to collection\n",
      "Status: Success\n",
      "Adding 'manufacturer' field to collection\n",
      "Status: Success\n",
      "Loading Products...\n",
      "Products Schema: \n",
      "root\n",
      " |-- upc: long (nullable = true)\n",
      " |-- name: string (nullable = true)\n",
      " |-- manufacturer: string (nullable = true)\n",
      " |-- shortDescription: string (nullable = true)\n",
      " |-- longDescription: string (nullable = true)\n",
      "\n",
      "Status: Success\n"
     ]
    }
   ],
   "source": [
    "#Create Products Collection\n",
    "products_collection=\"products\"\n",
    "create_collection(products_collection)\n",
    "\n",
    "#Modify Schema to make some fields explicitly searchable by keyword\n",
    "upsert_text_field(products_collection, \"upc\")\n",
    "upsert_text_field(products_collection, \"name\")\n",
    "upsert_text_field(products_collection, \"longDescription\")\n",
    "upsert_text_field(products_collection, \"manufacturer\")\n",
    "\n",
    "print(\"Loading Products...\")\n",
    "csvFile = \"../data/retrotech/products.csv\"\n",
    "csvDF = spark.read.format(\"csv\").option(\"header\", \"true\").option(\"inferSchema\", \"true\").load(csvFile)\n",
    "print(\"Products Schema: \")\n",
    "csvDF.printSchema()\n",
    "\n",
    "product_update_opts={\"zkhost\": \"search-zk\", \"collection\": products_collection, \n",
    "                     \"gen_uniq_key\": \"true\", \"commit_within\": \"5000\"}\n",
    "csvDF.write.format(\"solr\").options(**product_update_opts).mode(\"overwrite\").save()\n",
    "print(\"Status: Success\")"
   ]
  },
  {
   "cell_type": "markdown",
   "metadata": {
    "tags": []
   },
   "source": [
    "## Searching in Apache Solr and checking if results are right"
   ]
  },
  {
   "cell_type": "code",
   "execution_count": 4,
   "metadata": {
    "tags": []
   },
   "outputs": [
    {
     "data": {
      "text/html": [
       "<div id=\"demo\">\n",
       "        <input style=\"width:50%\" readonly type=\"text\" name=\"q\" value=\"ipod\">\n",
       "        <input readonly type=\"submit\" value=\"Search\">\n",
       "\n",
       "    <div class=\"results\">\n",
       "    \t\n",
       "\n",
       "    </div>\n",
       "</div>\n",
       "    \t<div style=\"position: relative; width: 100%; height:auto; overflow: auto;\">\n",
       "\t    \t<div style=\"position: relative; float:left; width: 120px; margin-top:25px\">\n",
       "\t    \t\t<img style=\"width:100px; height: auto; max-height:150px\" src=\"../data/retrotech/images/878816004532.jpg\">\n",
       "\t    \t</div>\n",
       "\t    \t<div style=\"position:relative; float:left; clear:none; width: 80%; height:auto\">\n",
       "\t    \t\t<p><strong>Name:</strong> Fusion - Apple&#xAE; iPod&#xAE; Dock for Most Fusion 600 Series Stereos | <strong>Manufacturer:</strong> Fusion</p>\n",
       "\t    \t\t<p> \n",
       "\t    \t\t</p>\n",
       "\t    \t</div>\n",
       "    \t</div>\n",
       "    \t\n",
       "\t\t<div style=\"position:relative; clear:both; content: ' '; display: block; height: 1px; margin-top: 10px; margin-bottom:20px\">\n",
       "\t\t\t<hr style=\"color: gray; width: 95%;\" />\n",
       "\t\t</div>\n",
       "\t\t\n",
       "    \t<div style=\"position: relative; width: 100%; height:auto; overflow: auto;\">\n",
       "\t    \t<div style=\"position: relative; float:left; width: 120px; margin-top:25px\">\n",
       "\t    \t\t<img style=\"width:100px; height: auto; max-height:150px\" src=\"../data/retrotech/images/694318011294.jpg\">\n",
       "\t    \t</div>\n",
       "\t    \t<div style=\"position:relative; float:left; clear:none; width: 80%; height:auto\">\n",
       "\t    \t\t<p><strong>Name:</strong> Alesis - Multimix 8-Channel USB 2.0 Mixer | <strong>Manufacturer:</strong> Alesis</p>\n",
       "\t    \t\t<p> \n",
       "\t    \t\t</p>\n",
       "\t    \t</div>\n",
       "    \t</div>\n",
       "    \t\n",
       "\t\t<div style=\"position:relative; clear:both; content: ' '; display: block; height: 1px; margin-top: 10px; margin-bottom:20px\">\n",
       "\t\t\t<hr style=\"color: gray; width: 95%;\" />\n",
       "\t\t</div>\n",
       "\t\t\n",
       "    \t<div style=\"position: relative; width: 100%; height:auto; overflow: auto;\">\n",
       "\t    \t<div style=\"position: relative; float:left; width: 120px; margin-top:25px\">\n",
       "\t    \t\t<img style=\"width:100px; height: auto; max-height:150px\" src=\"../data/retrotech/images/885909300549.jpg\">\n",
       "\t    \t</div>\n",
       "\t    \t<div style=\"position:relative; float:left; clear:none; width: 80%; height:auto\">\n",
       "\t    \t\t<p><strong>Name:</strong> Apple - USB Charge/Sync Cable for Apple&#xAE; iPod&#xAE; shuffle | <strong>Manufacturer:</strong> Apple</p>\n",
       "\t    \t\t<p> \n",
       "\t    \t\t</p>\n",
       "\t    \t</div>\n",
       "    \t</div>\n",
       "    \t\n",
       "\t\t<div style=\"position:relative; clear:both; content: ' '; display: block; height: 1px; margin-top: 10px; margin-bottom:20px\">\n",
       "\t\t\t<hr style=\"color: gray; width: 95%;\" />\n",
       "\t\t</div>\n",
       "\t\t\n",
       "    \t<div style=\"position: relative; width: 100%; height:auto; overflow: auto;\">\n",
       "\t    \t<div style=\"position: relative; float:left; width: 120px; margin-top:25px\">\n",
       "\t    \t\t<img style=\"width:100px; height: auto; max-height:150px\" src=\"../data/retrotech/images/27108936499.jpg\">\n",
       "\t    \t</div>\n",
       "\t    \t<div style=\"position:relative; float:left; clear:none; width: 80%; height:auto\">\n",
       "\t    \t\t<p><strong>Name:</strong> Yamaha - Apple&#xAE; iPod&#xAE; and iPhone&#xAE; Dock for Most Yamaha A/V Receivers | <strong>Manufacturer:</strong> Yamaha</p>\n",
       "\t    \t\t<p> \n",
       "\t    \t\t</p>\n",
       "\t    \t</div>\n",
       "    \t</div>\n",
       "    \t\n",
       "\t\t<div style=\"position:relative; clear:both; content: ' '; display: block; height: 1px; margin-top: 10px; margin-bottom:20px\">\n",
       "\t\t\t<hr style=\"color: gray; width: 95%;\" />\n",
       "\t\t</div>\n",
       "\t\t\n",
       "    \t<div style=\"position: relative; width: 100%; height:auto; overflow: auto;\">\n",
       "\t    \t<div style=\"position: relative; float:left; width: 120px; margin-top:25px\">\n",
       "\t    \t\t<img style=\"width:100px; height: auto; max-height:150px\" src=\"../data/retrotech/images/unavailable.jpg\">\n",
       "\t    \t</div>\n",
       "\t    \t<div style=\"position:relative; float:left; clear:none; width: 80%; height:auto\">\n",
       "\t    \t\t<p><strong>Name:</strong> Sony - 10W Micro Hi-Fi Shelf System with Built-in Apple&#xAE; iPod&#xAE; Dock | <strong>Manufacturer:</strong> Sony</p>\n",
       "\t    \t\t<p> \n",
       "\t    \t\t</p>\n",
       "\t    \t</div>\n",
       "    \t</div>\n",
       "    \t\n",
       "\t\t<div style=\"position:relative; clear:both; content: ' '; display: block; height: 1px; margin-top: 10px; margin-bottom:20px\">\n",
       "\t\t\t<hr style=\"color: gray; width: 95%;\" />\n",
       "\t\t</div>\n",
       "\t\t"
      ],
      "text/plain": [
       "<IPython.core.display.HTML object>"
      ]
     },
     "metadata": {},
     "output_type": "display_data"
    }
   ],
   "source": [
    "query = \"ipod\"\n",
    "\n",
    "collection = \"products\"\n",
    "request = {\n",
    "    \"query\": query,\n",
    "    \"fields\": [\"upc\", \"name\", \"manufacturer\", \"score\"],\n",
    "    \"limit\": 5,\n",
    "    \"params\": {\n",
    "      \"qf\": \"name manufacturer longDescription\",\n",
    "      \"defType\": \"edismax\",\n",
    "      \"sort\": \"score desc, upc asc\"\n",
    "    }\n",
    "}\n",
    "\n",
    "search_results = requests.post(f\"{SOLR_URL}/{collection}/select\", json=request).json()[\"response\"][\"docs\"]\n",
    "display(HTML(render_search_results(query, search_results)))"
   ]
  },
  {
   "cell_type": "markdown",
   "metadata": {},
   "source": [
    "## Downloading and checking Signals Dataset"
   ]
  },
  {
   "cell_type": "code",
   "execution_count": 5,
   "metadata": {
    "tags": []
   },
   "outputs": [
    {
     "name": "stdout",
     "output_type": "stream",
     "text": [
      "\"query_id\",\"user\",\"type\",\"target\",\"signal_time\"\n",
      "\"u2_0_1\",\"u2\",\"query\",\"nook\",\"2019-07-31 08:49:07.3116\"\n",
      "\"u2_1_2\",\"u2\",\"query\",\"rca\",\"2020-05-04 08:28:21.1848\"\n",
      "\"u3_0_1\",\"u3\",\"query\",\"macbook\",\"2019-12-22 00:07:07.0152\"\n",
      "\"u4_0_1\",\"u4\",\"query\",\"Tv antenna\",\"2019-08-22 23:45:54.1030\"\n",
      "\"u5_0_1\",\"u5\",\"query\",\"AC power cord\",\"2019-10-20 08:27:00.1600\"\n",
      "\"u6_0_1\",\"u6\",\"query\",\"Watch The Throne\",\"2019-09-18 11:59:53.7470\"\n",
      "\"u7_0_1\",\"u7\",\"query\",\"Camcorder\",\"2020-02-25 13:02:29.3089\"\n",
      "\"u9_0_1\",\"u9\",\"query\",\"wireless headphones\",\"2020-04-26 04:26:09.7198\"\n",
      "\"u10_0_1\",\"u10\",\"query\",\"Xbox\",\"2019-09-13 16:26:12.0132\"\n"
     ]
    }
   ],
   "source": [
    "! cd ../data/retrotech/&& head signals.csv"
   ]
  },
  {
   "cell_type": "markdown",
   "metadata": {},
   "source": [
    "## Ingesting Signals Dataset to Solr Database"
   ]
  },
  {
   "cell_type": "code",
   "execution_count": 6,
   "metadata": {
    "tags": []
   },
   "outputs": [
    {
     "name": "stdout",
     "output_type": "stream",
     "text": [
      "Wiping 'signals' collection\n",
      "[('action', 'CREATE'), ('name', 'signals'), ('numShards', 1), ('replicationFactor', 1)]\n",
      "Creating 'signals' collection\n",
      "Status: Success\n",
      "Loading Signals...\n",
      "Signals Schema: \n",
      "root\n",
      " |-- query_id: string (nullable = true)\n",
      " |-- user: string (nullable = true)\n",
      " |-- type: string (nullable = true)\n",
      " |-- target: string (nullable = true)\n",
      " |-- signal_time: timestamp (nullable = true)\n",
      "\n",
      "Status: Success\n"
     ]
    }
   ],
   "source": [
    "#Create Signals Collection\n",
    "signals_collection=\"signals\"\n",
    "create_collection(signals_collection)\n",
    "\n",
    "print(\"Loading Signals...\")\n",
    "csvFile = \"../data/retrotech/signals.csv\"\n",
    "csvDF = spark.read.format(\"csv\").option(\"header\", \"true\").option(\"inferSchema\", \"true\").load(csvFile)\n",
    "print(\"Signals Schema: \")\n",
    "csvDF.printSchema()\n",
    "\n",
    "signals_update_opts={\"zkhost\": \"search-zk\", \"collection\": signals_collection, \n",
    "                     \"gen_uniq_key\": \"true\", \"commit_within\": \"5000\"}\n",
    "csvDF.write.format(\"solr\").options(**signals_update_opts).mode(\"overwrite\").save()\n",
    "print(\"Status: Success\")"
   ]
  },
  {
   "cell_type": "markdown",
   "metadata": {},
   "source": [
    "## Boosting the signals"
   ]
  },
  {
   "cell_type": "code",
   "execution_count": 7,
   "metadata": {
    "tags": []
   },
   "outputs": [
    {
     "name": "stdout",
     "output_type": "stream",
     "text": [
      "Wiping 'signals_boosting' collection\n",
      "[('action', 'CREATE'), ('name', 'signals_boosting'), ('numShards', 1), ('replicationFactor', 1)]\n",
      "Creating 'signals_boosting' collection\n",
      "Status: Success\n",
      "Aggregation to Create Signals Boosts...\n",
      "Signals Aggregation Completed!\n"
     ]
    }
   ],
   "source": [
    "products_collection=\"products\"\n",
    "signals_collection=\"signals\"\n",
    "signals_boosting_collection=\"signals_boosting\"\n",
    "\n",
    "create_collection(signals_boosting_collection)\n",
    "\n",
    "print(\"Aggregation to Create Signals Boosts...\")\n",
    "signals_opts={\"zkhost\": \"search-zk\", \"collection\": signals_collection}\n",
    "df = spark.read.format(\"solr\").options(**signals_opts).load()\n",
    "df.createOrReplaceTempView(\"signals\")\n",
    "\n",
    "# For each query we are storing how many times the document has been clicked.\n",
    "signals_aggregation_query = \"\"\"\n",
    "select q.target as query, c.target as doc, count(c.target) as boost\n",
    "  from signals c left join signals q on c.query_id = q.query_id\n",
    "  where c.type = 'click' AND q.type = 'query'\n",
    "  group by query, doc\n",
    "  order by boost desc\n",
    "\"\"\"\n",
    "\n",
    "signals_boosting_opts={\"zkhost\": \"search-zk\", \"collection\": signals_boosting_collection, \n",
    "                       \"gen_uniq_key\": \"true\", \"commit_within\": \"5000\"}\n",
    "\n",
    "#Writing the Boosted Signal Information to Apache Spark\n",
    "spark.sql(signals_aggregation_query).write.format(\"solr\").options(**signals_boosting_opts).mode(\"overwrite\").save()\n",
    "print(\"Signals Aggregation Completed!\")"
   ]
  },
  {
   "cell_type": "markdown",
   "metadata": {},
   "source": [
    "## For the query ipad, collecting the documents and their boosts"
   ]
  },
  {
   "cell_type": "code",
   "execution_count": 10,
   "metadata": {
    "tags": []
   },
   "outputs": [
    {
     "name": "stdout",
     "output_type": "stream",
     "text": [
      "Boost Documents for the query ipad: \n",
      "[{'doc': '885909457588', 'boost': 966}, {'doc': '885909457595', 'boost': 205}, {'doc': '885909471812', 'boost': 202}, {'doc': '886111287055', 'boost': 109}, {'doc': '843404073153', 'boost': 73}, {'doc': '885909457601', 'boost': 62}, {'doc': '635753493559', 'boost': 62}, {'doc': '885909472376', 'boost': 61}, {'doc': '610839379408', 'boost': 29}, {'doc': '884962753071', 'boost': 28}]\n"
     ]
    }
   ],
   "source": [
    "query = \"ipad\"\n",
    "\n",
    "signals_boosts_query = {\n",
    "    \"query\": query,\n",
    "    \"fields\": [\"doc\", \"boost\"],\n",
    "    \"limit\": 10,\n",
    "    \"params\": {\n",
    "      \"defType\": \"edismax\",\n",
    "      \"qf\": \"query\",\n",
    "      \"sort\": \"boost desc\"\n",
    "    }\n",
    "}\n",
    "\n",
    "signals_boosts = requests.post(f\"{SOLR_URL}/{signals_boosting_collection}/select\", \n",
    "                               json=signals_boosts_query).json()[\"response\"][\"docs\"]\n",
    "print(f\"Boost Documents for the query ipad: \\n{signals_boosts}\")"
   ]
  },
  {
   "cell_type": "markdown",
   "metadata": {
    "tags": []
   },
   "source": [
    "## Searching the products collection with this boost values from User clicks data"
   ]
  },
  {
   "cell_type": "code",
   "execution_count": 11,
   "metadata": {
    "tags": []
   },
   "outputs": [
    {
     "name": "stdout",
     "output_type": "stream",
     "text": [
      "\n",
      "Boost Query: \n",
      "\"885909457588\"^966 \"885909457595\"^205 \"885909471812\"^202 \"886111287055\"^109 \"843404073153\"^73 \"885909457601\"^62 \"635753493559\"^62 \"885909472376\"^61 \"610839379408\"^29 \"884962753071\"^28\n"
     ]
    },
    {
     "data": {
      "text/html": [
       "<div id=\"demo\">\n",
       "        <input style=\"width:50%\" readonly type=\"text\" name=\"q\" value=\"ipad\">\n",
       "        <input readonly type=\"submit\" value=\"Search\">\n",
       "\n",
       "    <div class=\"results\">\n",
       "    \t\n",
       "\n",
       "    </div>\n",
       "</div>\n",
       "    \t<div style=\"position: relative; width: 100%; height:auto; overflow: auto;\">\n",
       "\t    \t<div style=\"position: relative; float:left; width: 120px; margin-top:25px\">\n",
       "\t    \t\t<img style=\"width:100px; height: auto; max-height:150px\" src=\"../data/retrotech/images/885909457588.jpg\">\n",
       "\t    \t</div>\n",
       "\t    \t<div style=\"position:relative; float:left; clear:none; width: 80%; height:auto\">\n",
       "\t    \t\t<p><strong>Name:</strong> Apple&#xAE; - iPad&#xAE; 2 with Wi-Fi - 16GB - Black | <strong>Manufacturer:</strong> Apple&#xAE;</p>\n",
       "\t    \t\t<p> \n",
       "\t    \t\t</p>\n",
       "\t    \t</div>\n",
       "    \t</div>\n",
       "    \t\n",
       "\t\t<div style=\"position:relative; clear:both; content: ' '; display: block; height: 1px; margin-top: 10px; margin-bottom:20px\">\n",
       "\t\t\t<hr style=\"color: gray; width: 95%;\" />\n",
       "\t\t</div>\n",
       "\t\t\n",
       "    \t<div style=\"position: relative; width: 100%; height:auto; overflow: auto;\">\n",
       "\t    \t<div style=\"position: relative; float:left; width: 120px; margin-top:25px\">\n",
       "\t    \t\t<img style=\"width:100px; height: auto; max-height:150px\" src=\"../data/retrotech/images/885909457595.jpg\">\n",
       "\t    \t</div>\n",
       "\t    \t<div style=\"position:relative; float:left; clear:none; width: 80%; height:auto\">\n",
       "\t    \t\t<p><strong>Name:</strong> Apple&#xAE; - iPad&#xAE; 2 with Wi-Fi - 32GB - Black | <strong>Manufacturer:</strong> Apple&#xAE;</p>\n",
       "\t    \t\t<p> \n",
       "\t    \t\t</p>\n",
       "\t    \t</div>\n",
       "    \t</div>\n",
       "    \t\n",
       "\t\t<div style=\"position:relative; clear:both; content: ' '; display: block; height: 1px; margin-top: 10px; margin-bottom:20px\">\n",
       "\t\t\t<hr style=\"color: gray; width: 95%;\" />\n",
       "\t\t</div>\n",
       "\t\t\n",
       "    \t<div style=\"position: relative; width: 100%; height:auto; overflow: auto;\">\n",
       "\t    \t<div style=\"position: relative; float:left; width: 120px; margin-top:25px\">\n",
       "\t    \t\t<img style=\"width:100px; height: auto; max-height:150px\" src=\"../data/retrotech/images/885909471812.jpg\">\n",
       "\t    \t</div>\n",
       "\t    \t<div style=\"position:relative; float:left; clear:none; width: 80%; height:auto\">\n",
       "\t    \t\t<p><strong>Name:</strong> Apple&#xAE; - iPad&#xAE; 2 with Wi-Fi - 16GB - White | <strong>Manufacturer:</strong> Apple&#xAE;</p>\n",
       "\t    \t\t<p> \n",
       "\t    \t\t</p>\n",
       "\t    \t</div>\n",
       "    \t</div>\n",
       "    \t\n",
       "\t\t<div style=\"position:relative; clear:both; content: ' '; display: block; height: 1px; margin-top: 10px; margin-bottom:20px\">\n",
       "\t\t\t<hr style=\"color: gray; width: 95%;\" />\n",
       "\t\t</div>\n",
       "\t\t\n",
       "    \t<div style=\"position: relative; width: 100%; height:auto; overflow: auto;\">\n",
       "\t    \t<div style=\"position: relative; float:left; width: 120px; margin-top:25px\">\n",
       "\t    \t\t<img style=\"width:100px; height: auto; max-height:150px\" src=\"../data/retrotech/images/843404073153.jpg\">\n",
       "\t    \t</div>\n",
       "\t    \t<div style=\"position:relative; float:left; clear:none; width: 80%; height:auto\">\n",
       "\t    \t\t<p><strong>Name:</strong> ZAGG - InvisibleSHIELD for Apple&#xAE; iPad&#xAE; 2 - Clear | <strong>Manufacturer:</strong> ZAGG</p>\n",
       "\t    \t\t<p> \n",
       "\t    \t\t</p>\n",
       "\t    \t</div>\n",
       "    \t</div>\n",
       "    \t\n",
       "\t\t<div style=\"position:relative; clear:both; content: ' '; display: block; height: 1px; margin-top: 10px; margin-bottom:20px\">\n",
       "\t\t\t<hr style=\"color: gray; width: 95%;\" />\n",
       "\t\t</div>\n",
       "\t\t\n",
       "    \t<div style=\"position: relative; width: 100%; height:auto; overflow: auto;\">\n",
       "\t    \t<div style=\"position: relative; float:left; width: 120px; margin-top:25px\">\n",
       "\t    \t\t<img style=\"width:100px; height: auto; max-height:150px\" src=\"../data/retrotech/images/885909457601.jpg\">\n",
       "\t    \t</div>\n",
       "\t    \t<div style=\"position:relative; float:left; clear:none; width: 80%; height:auto\">\n",
       "\t    \t\t<p><strong>Name:</strong> Apple&#xAE; - iPad&#xAE; 2 with Wi-Fi - 64GB - Black | <strong>Manufacturer:</strong> Apple&#xAE;</p>\n",
       "\t    \t\t<p> \n",
       "\t    \t\t</p>\n",
       "\t    \t</div>\n",
       "    \t</div>\n",
       "    \t\n",
       "\t\t<div style=\"position:relative; clear:both; content: ' '; display: block; height: 1px; margin-top: 10px; margin-bottom:20px\">\n",
       "\t\t\t<hr style=\"color: gray; width: 95%;\" />\n",
       "\t\t</div>\n",
       "\t\t"
      ],
      "text/plain": [
       "<IPython.core.display.HTML object>"
      ]
     },
     "metadata": {},
     "output_type": "display_data"
    }
   ],
   "source": [
    "product_boosts = \" \".join(\n",
    "    [f'\"{entry[\"doc\"]}\"^{str(entry[\"boost\"])}' \n",
    "     for entry in signals_boosts])\n",
    "print(f\"\\nBoost Query: \\n{product_boosts}\")\n",
    "\n",
    "collection = \"products\"\n",
    "request = {\n",
    "    \"query\": query,\n",
    "    \"fields\": [\"upc\", \"name\", \"manufacturer\", \"score\"],\n",
    "    \"limit\": 5,\n",
    "    \"params\": {\n",
    "      \"qf\": \"name manufacturer longDescription\",\n",
    "      \"defType\": \"edismax\",\n",
    "      \"indent\": \"true\",\n",
    "      \"sort\": \"score desc, upc asc\",\n",
    "      \"qf\": \"name manufacturer longDescription\",\n",
    "      \"boost\": \"sum(1,query({! df=upc v=$signals_boosting}))\",\n",
    "      \"signals_boosting\": product_boosts\n",
    "    }\n",
    "}\n",
    "\n",
    "search_results = requests.post(f\"{SOLR_URL}/{collection}/select\", json=request).json()[\"response\"][\"docs\"]\n",
    "display(HTML(render_search_results(query, search_results)))"
   ]
  },
  {
   "cell_type": "markdown",
   "metadata": {},
   "source": [
    "# Searching with the related keywords"
   ]
  },
  {
   "cell_type": "markdown",
   "metadata": {},
   "source": [
    "The basic intuition is if user 1 types a query q1 and clicks product p and if user 2 types a query q2 and clicks on same product, we can assume that both queries q1 and q2 are related."
   ]
  },
  {
   "cell_type": "code",
   "execution_count": 12,
   "metadata": {
    "tags": []
   },
   "outputs": [],
   "source": [
    "#Calculation:\n",
    "spark.sql(\"\"\"\n",
    "  select lower(searches.target) as keyword, searches.user as user, clicks.target as product \n",
    "  from signals as searches right join signals as clicks on searches.query_id = clicks.query_id \n",
    "  where searches.type='query' and clicks.type = 'click'\n",
    "\"\"\").createOrReplaceTempView('keyword_click_product')\n"
   ]
  },
  {
   "cell_type": "code",
   "execution_count": 13,
   "metadata": {
    "tags": []
   },
   "outputs": [
    {
     "name": "stdout",
     "output_type": "stream",
     "text": [
      "Original signals format: \n",
      "+------------------------------------+-----------+-----------------------+----------+-----+-------+\n",
      "|id                                  |query_id   |signal_time            |target    |type |user   |\n",
      "+------------------------------------+-----------+-----------------------+----------+-----+-------+\n",
      "|0000c952-7e4a-4dee-8aa9-a47914ad5189|u391913_0_1|2019-12-02 02:31:47.552|Headphones|query|u391913|\n",
      "|0000d4e3-fc86-45fe-81b2-cfce636e1808|u11222_0_1 |2020-02-23 07:52:32.757|ipod touch|query|u11222 |\n",
      "|0001a6e5-2e1c-4c6b-aabe-86ceb2963fbc|u727899_0_1|2019-10-11 17:40:50.229|gps       |query|u727899|\n",
      "+------------------------------------+-----------+-----------------------+----------+-----+-------+\n",
      "only showing top 3 rows\n",
      "\n",
      "Simplified signals format: \n",
      "+----------------+-------+------------+\n",
      "|         keyword|   user|     product|\n",
      "+----------------+-------+------------+\n",
      "|        kingston|u100001|740617151381|\n",
      "|     dc universe|u100011|883929194629|\n",
      "|leandria johnson|u100013|879645002218|\n",
      "+----------------+-------+------------+\n",
      "only showing top 3 rows\n",
      "\n"
     ]
    }
   ],
   "source": [
    "#Show Results:\n",
    "print(\"Original signals format: \")\n",
    "spark.sql(''' select * from signals where type='query' ''').show(3, truncate=False)\n",
    "print(\"Simplified signals format: \")\n",
    "spark.sql(''' select * from keyword_click_product ''').show(3)"
   ]
  },
  {
   "cell_type": "code",
   "execution_count": 14,
   "metadata": {
    "tags": []
   },
   "outputs": [],
   "source": [
    "#Calculation:\n",
    "spark.sql(\"\"\"\n",
    "select k1.keyword as k1, k2.keyword as k2, sum(p1) n_users1,sum(p2) n_users2, \n",
    "sum(p1+p2) as users_cooc, count(1) n_products\n",
    "from\n",
    "(select keyword, product, count(1) as p1 from keyword_click_product group by keyword, product) as k1 \n",
    "join\n",
    "(select keyword, product, count(1) as p2 from keyword_click_product group by keyword, product) as k2\n",
    "on k1.product = k2.product\n",
    "where k1.keyword > k2.keyword \n",
    "group by k1.keyword, k2.keyword\n",
    "\"\"\").createOrReplaceTempView('keyword_click_product_cooc')"
   ]
  },
  {
   "cell_type": "code",
   "execution_count": 15,
   "metadata": {
    "tags": []
   },
   "outputs": [
    {
     "name": "stdout",
     "output_type": "stream",
     "text": [
      "+--------------------------+\n",
      "|keyword_click_product_cooc|\n",
      "+--------------------------+\n",
      "|                   1579710|\n",
      "+--------------------------+\n",
      "\n",
      "+--------------+-------------+--------+--------+----------+----------+\n",
      "|            k1|           k2|n_users1|n_users2|users_cooc|n_products|\n",
      "+--------------+-------------+--------+--------+----------+----------+\n",
      "|       laptops|       laptop|    3251|    3345|      6596|       187|\n",
      "|       tablets|       tablet|    1510|    1629|      3139|       155|\n",
      "|        tablet|         ipad|    1468|    7067|      8535|       146|\n",
      "|       tablets|         ipad|    1359|    7048|      8407|       132|\n",
      "|       cameras|       camera|     637|     688|      1325|       116|\n",
      "|          ipad|        apple|    6706|    1129|      7835|       111|\n",
      "|      iphone 4|       iphone|    1313|    1754|      3067|       108|\n",
      "|    headphones|  head phones|    1829|     492|      2321|       106|\n",
      "|        ipad 2|         ipad|    2736|    6738|      9474|        98|\n",
      "|     computers|     computer|     536|     392|       928|        98|\n",
      "|iphone 4 cases|iphone 4 case|     648|     810|      1458|        95|\n",
      "|       netbook|       laptop|    1017|    2887|      3904|        94|\n",
      "|        laptop|    computers|    2794|     349|      3143|        94|\n",
      "|       netbook|      laptops|    1018|    2781|      3799|        91|\n",
      "|    headphones|    headphone|    1617|     367|      1984|        90|\n",
      "|        laptop|           hp|    2078|     749|      2827|        89|\n",
      "|        tablet|    computers|    1124|     449|      1573|        89|\n",
      "|           mac|        apple|    1668|    1218|      2886|        88|\n",
      "|       laptops|    computers|    2734|     331|      3065|        88|\n",
      "|     tablet pc|       tablet|     296|    1408|      1704|        87|\n",
      "+--------------+-------------+--------+--------+----------+----------+\n",
      "only showing top 20 rows\n",
      "\n"
     ]
    }
   ],
   "source": [
    "#Show Results:\n",
    "spark.sql('''select count(1) as keyword_click_product_cooc from keyword_click_product_cooc''').show()\n",
    "spark.sql('''select * from keyword_click_product_cooc order by n_products desc''').show(20)"
   ]
  },
  {
   "cell_type": "code",
   "execution_count": 16,
   "metadata": {
    "tags": []
   },
   "outputs": [],
   "source": [
    "#Calculation:\n",
    "spark.sql(\"\"\"\n",
    "select keyword, count(1) as n_users from keyword_click_product group by keyword \n",
    "\"\"\").createOrReplaceTempView('keyword_click_product_oc')"
   ]
  },
  {
   "cell_type": "code",
   "execution_count": 17,
   "metadata": {
    "tags": []
   },
   "outputs": [
    {
     "name": "stdout",
     "output_type": "stream",
     "text": [
      "+------------------------+\n",
      "|keyword_click_product_oc|\n",
      "+------------------------+\n",
      "|                   13744|\n",
      "+------------------------+\n",
      "\n",
      "+------------+-------+\n",
      "|     keyword|n_users|\n",
      "+------------+-------+\n",
      "|        ipad|   7554|\n",
      "| hp touchpad|   4829|\n",
      "|      lcd tv|   4606|\n",
      "|   iphone 4s|   4585|\n",
      "|      laptop|   3554|\n",
      "|       beats|   3498|\n",
      "|     laptops|   3369|\n",
      "|        ipod|   2949|\n",
      "|  ipod touch|   2931|\n",
      "|      ipad 2|   2842|\n",
      "|      kindle|   2833|\n",
      "|    touchpad|   2785|\n",
      "|   star wars|   2564|\n",
      "|      iphone|   2430|\n",
      "|beats by dre|   2328|\n",
      "|     macbook|   2313|\n",
      "|  headphones|   2270|\n",
      "|        bose|   2071|\n",
      "|         ps3|   2041|\n",
      "|         mac|   1851|\n",
      "+------------+-------+\n",
      "only showing top 20 rows\n",
      "\n"
     ]
    }
   ],
   "source": [
    "#Show Results:\n",
    "spark.sql('''select count(1) as keyword_click_product_oc from keyword_click_product_oc''').show()\n",
    "spark.sql('''select * from keyword_click_product_oc order by n_users desc''').show(20)"
   ]
  },
  {
   "cell_type": "code",
   "execution_count": 18,
   "metadata": {
    "tags": []
   },
   "outputs": [],
   "source": [
    "# calculate PMI2\n",
    "\n",
    "#Calculation:\n",
    "spark.sql('''\n",
    "select k1.keyword as k1, k2.keyword as k2, k1_k2.users_cooc, k1.n_users as n_users1,k2.n_users as n_users2,\n",
    "log(pow(k1_k2.users_cooc,2)/(k1.n_users*k2.n_users)) as pmi2\n",
    "from\n",
    "keyword_click_product_cooc as k1_k2 \n",
    "join\n",
    "keyword_click_product_oc as k1 on k1_k2.k1 = k1.keyword\n",
    "join\n",
    "keyword_click_product_oc as k2 on k1_k2.k2 = k2.keyword\n",
    "''').createOrReplaceTempView('product_related_keywords_pmi')"
   ]
  },
  {
   "cell_type": "code",
   "execution_count": 19,
   "metadata": {
    "tags": []
   },
   "outputs": [
    {
     "name": "stdout",
     "output_type": "stream",
     "text": [
      "+--------------------+\n",
      "|related_keywords_pmi|\n",
      "+--------------------+\n",
      "|             1579710|\n",
      "+--------------------+\n",
      "\n",
      "+-------------------+-------------------+----------+--------+--------+------------------+\n",
      "|                 k1|                 k2|users_cooc|n_users1|n_users2|              pmi2|\n",
      "+-------------------+-------------------+----------+--------+--------+------------------+\n",
      "|     hp touchpad 32|        hp touchpad|      4022|       1|    4829| 8.116674454791653|\n",
      "|          pad pivot|        hp touchpad|      4022|       1|    4829| 8.116674454791653|\n",
      "|        hp touchpad|     hp tablet 32gb|      4022|    4829|       1| 8.116674454791653|\n",
      "|        hp touchpad|    hp tablet 32 gb|      4022|    4829|       1| 8.116674454791653|\n",
      "|           touchpad|    hp tablet 32 gb|      2350|    2785|       1| 7.592338061915025|\n",
      "|           touchpad|          pad pivot|      2350|    2785|       1| 7.592338061915025|\n",
      "|           touchpad|     hp tablet 32gb|      2350|    2785|       1| 7.592338061915025|\n",
      "|           touchpad|     hp touchpad 32|      2350|    2785|       1| 7.592338061915025|\n",
      "|           toichpad|        hp touchpad|      4077|       2|    4829| 7.450691539205019|\n",
      "|hp touchpad tablets|        hp touchpad|      4035|       2|    4829| 7.429981294974612|\n",
      "|         hp toucpad|        hp touchpad|      4023|       2|    4829| 7.424024477466089|\n",
      "|               ipad|  automatic starter|      2940|    7554|       1| 7.042497217393052|\n",
      "|        hp touchpad| hp tablet touchpad|      4048|    4829|       3| 7.030949447392952|\n",
      "|        hp touchpad|            2842092|      4024|    4829|       3| 7.019056449017499|\n",
      "|        hp touchpad|        hp smartpad|      4024|    4829|       3| 7.019056449017499|\n",
      "|           touchpaf|        hp touchpad|      4024|       3|    4829| 7.019056449017499|\n",
      "|        hp touxhpad|        hp touchpad|      4024|       3|    4829| 7.019056449017499|\n",
      "|           touchpad|           toichpad|      2369|    2785|       2| 6.915296075396241|\n",
      "|           touchpad|hp touchpad tablets|      2356|    2785|       2|6.9042907566216245|\n",
      "|           touchpad|         hp toucpad|      2351|    2785|       2| 6.900041764158809|\n",
      "+-------------------+-------------------+----------+--------+--------+------------------+\n",
      "only showing top 20 rows\n",
      "\n"
     ]
    }
   ],
   "source": [
    "#Show Results:\n",
    "spark.sql('''select count(1) as related_keywords_pmi from product_related_keywords_pmi''').show()\n",
    "spark.sql('''select * from product_related_keywords_pmi order by pmi2 desc''').show(20)"
   ]
  },
  {
   "cell_type": "code",
   "execution_count": 20,
   "metadata": {
    "tags": []
   },
   "outputs": [],
   "source": [
    "# calculate comp_score\n",
    "\n",
    "#Calculation:\n",
    "spark.sql('''\n",
    "select  *, (r1 + r2 /( r1 * r2))/2 as comp_score from (\n",
    " select *, \n",
    "   rank() over (partition by 1 order by users_cooc desc )  r1 , \n",
    "   rank() over (partition by 1 order by pmi2 desc )  r2  \n",
    "  from product_related_keywords_pmi ) a  '''\n",
    ").createOrReplaceTempView('product_related_keywords_comp_score')"
   ]
  },
  {
   "cell_type": "code",
   "execution_count": 21,
   "metadata": {
    "tags": []
   },
   "outputs": [
    {
     "name": "stdout",
     "output_type": "stream",
     "text": [
      "+------------------------------------+\n",
      "|product_related_keywords_comp_scores|\n",
      "+------------------------------------+\n",
      "|                             1579710|\n",
      "+------------------------------------+\n",
      "\n",
      "+----------+-----------+--------+--------+------------------+------------------+\n",
      "|        k1|         k2|n_users1|n_users2|              pmi2|        comp_score|\n",
      "+----------+-----------+--------+--------+------------------+------------------+\n",
      "|      ipad|hp touchpad|    7554|    4829|1.2318940540272372|               1.0|\n",
      "|    ipad 2|       ipad|    2842|    7554| 1.430517155037946|              1.25|\n",
      "|    tablet|       ipad|    1818|    7554|1.6685364924472557|1.6666666666666667|\n",
      "|  touchpad|       ipad|    2785|    7554|1.2231908670315748|             2.125|\n",
      "|   tablets|       ipad|    1627|    7554|1.7493143317791537|               2.6|\n",
      "|     ipad2|       ipad|    1254|    7554|1.9027023623302282|3.0833333333333335|\n",
      "|      ipad|      apple|    7554|    1814|1.4995901756327583|3.5714285714285716|\n",
      "|  touchpad|hp touchpad|    2785|    4829|1.3943192464710108|            4.0625|\n",
      "|      ipad|  hp tablet|    7554|    1421|1.5940745096856273| 4.555555555555555|\n",
      "|ipod touch|       ipad|    2931|    7554|0.8634782989267505|              5.05|\n",
      "|      ipad|      i pad|    7554|     612| 2.415162433949984| 5.545454545454546|\n",
      "|    kindle|       ipad|    2833|    7554| 0.827835342752348| 6.041666666666667|\n",
      "|    laptop|       ipad|    3554|    7554|0.5933664189857986| 6.538461538461538|\n",
      "|      ipad| apple ipad|    7554|     326| 2.916383652644603| 7.035714285714286|\n",
      "|    ipad 2|hp touchpad|    2842|    4829|1.1805849845414993| 7.533333333333333|\n",
      "|   laptops|     laptop|    3369|    3554|1.2902371152378296|           8.03125|\n",
      "|      ipad|         hp|    7554|    1125| 1.534242656892875| 8.529411764705882|\n",
      "|     ipads|       ipad|     254|    7554|3.0147863057446345| 9.027777777777779|\n",
      "|      ipad|  htc flyer|    7554|    1834|1.0160007504012176| 9.526315789473685|\n",
      "|      ipad|    i pad 2|    7554|     204| 3.180197301966425|            10.025|\n",
      "+----------+-----------+--------+--------+------------------+------------------+\n",
      "only showing top 20 rows\n",
      "\n"
     ]
    }
   ],
   "source": [
    "#Show Results:\n",
    "spark.sql( '''\n",
    "  select count(1) product_related_keywords_comp_scores from product_related_keywords_comp_score\n",
    "''').show()\n",
    "\n",
    "spark.sql( '''\n",
    "  select k1, k2, n_users1, n_users2, pmi2, comp_score \n",
    "  from product_related_keywords_comp_score\n",
    "  order by comp_score asc\n",
    "''').show(20)"
   ]
  },
  {
   "cell_type": "markdown",
   "metadata": {},
   "source": [
    "We can see above that the related keywords are k1 and k2. The low comp_score indicates that they are closely related keywords. We can see that our results are giving somewhat semantically related keywords."
   ]
  },
  {
   "cell_type": "markdown",
   "metadata": {
    "tags": []
   },
   "source": [
    "## To find the wrongly spelled words"
   ]
  },
  {
   "cell_type": "code",
   "execution_count": 22,
   "metadata": {
    "tags": []
   },
   "outputs": [
    {
     "name": "stderr",
     "output_type": "stream",
     "text": [
      "[nltk_data] Downloading package stopwords to /home/jovyan/nltk_data...\n",
      "[nltk_data]   Unzipping corpora/stopwords.zip.\n"
     ]
    },
    {
     "data": {
      "text/plain": [
       "True"
      ]
     },
     "execution_count": 22,
     "metadata": {},
     "output_type": "execute_result"
    }
   ],
   "source": [
    "import nltk\n",
    "from collections import defaultdict\n",
    "from nltk.corpus import stopwords\n",
    "from nltk.tokenize import RegexpTokenizer\n",
    "import numpy as np\n",
    "import re\n",
    "nltk.download('stopwords')"
   ]
  },
  {
   "cell_type": "code",
   "execution_count": 23,
   "metadata": {
    "tags": []
   },
   "outputs": [],
   "source": [
    "import json"
   ]
  },
  {
   "cell_type": "code",
   "execution_count": 25,
   "metadata": {
    "tags": []
   },
   "outputs": [
    {
     "name": "stdout",
     "output_type": "stream",
     "text": [
      "[]\n"
     ]
    }
   ],
   "source": [
    "collection=\"products\"\n",
    "query=\"moden\"\n",
    "\n",
    "request = {\n",
    "    \"params\": {\n",
    "        \"q.op\": \"and\",\n",
    "        \"rows\": 0,\n",
    "        \"indent\": \"on\"\n",
    "    },\n",
    "    \"query\": query,\n",
    "}\n",
    "\n",
    "search_results = requests.post(f\"{SOLR_URL}/{collection}/spell\", json=request).json()\n",
    "print(json.dumps(search_results[\"spellcheck\"][\"collations\"], indent=4))"
   ]
  },
  {
   "cell_type": "code",
   "execution_count": 26,
   "metadata": {
    "tags": []
   },
   "outputs": [],
   "source": [
    "#use the real signals\n",
    "signals_collection=\"signals\"\n",
    "signals_opts={\"zkhost\": \"search-zk\", \"collection\": signals_collection}\n",
    "df = spark.read.format(\"solr\").options(**signals_opts).load()\n",
    "df.createOrReplaceTempView(\"signals\")"
   ]
  },
  {
   "cell_type": "code",
   "execution_count": 27,
   "metadata": {
    "tags": []
   },
   "outputs": [],
   "source": [
    "### Create user-searchs table each raw represent one search query.\n",
    "query_signals = spark.sql(\"\"\"\n",
    "  select lower(trim(searches.target)) as keyword, searches.user as user \n",
    "  from signals as searches where searches.type='query'\n",
    "  group by keyword, user\"\"\"\n",
    ").collect()"
   ]
  },
  {
   "cell_type": "markdown",
   "metadata": {},
   "source": [
    "### Now we tokenise the queries and find word frequencies. For the frequency distribution quantiles, we can choose the cutoff point to get only useful misspellings"
   ]
  },
  {
   "cell_type": "code",
   "execution_count": 28,
   "metadata": {
    "tags": []
   },
   "outputs": [],
   "source": [
    "stop_words = set(stopwords.words('english'))\n",
    "word_list = defaultdict(int)\n",
    "\n",
    "for row in query_signals:\n",
    "    query = row[\"keyword\"]\n",
    "    tokenizer = RegexpTokenizer(r'\\w+') \n",
    "    tokens   = tokenizer.tokenize(query)\n",
    "    \n",
    "    for token in tokens:\n",
    "        if token not in stop_words and len(token) > 3 and not token.isdigit():  #drop stopwords and digit only tokens\n",
    "            # and only consider token length > 3, since hard to judge whether a very short token is misspelled or not\n",
    "            word_list[token] += 1"
   ]
  },
  {
   "cell_type": "code",
   "execution_count": 29,
   "metadata": {
    "tags": []
   },
   "outputs": [
    {
     "data": {
      "text/plain": [
       "{0.1: 5.0,\n",
       " 0.2: 6.0,\n",
       " 0.3: 8.0,\n",
       " 0.4: 12.0,\n",
       " 0.5: 16.0,\n",
       " 0.6: 25.0,\n",
       " 0.7: 47.0,\n",
       " 0.8: 142.20000000000027,\n",
       " 0.9: 333.2000000000007}"
      ]
     },
     "execution_count": 29,
     "metadata": {},
     "output_type": "execute_result"
    }
   ],
   "source": [
    "quantiles_to_check = [0.1,0.2,0.3,0.4,0.5,0.6,0.7,0.8,0.9]\n",
    "quantile_values = np.quantile(np.array(list(word_list.values())), quantiles_to_check)\n",
    "quantiles = dict(zip(quantiles_to_check, quantile_values))\n",
    "quantiles"
   ]
  },
  {
   "cell_type": "code",
   "execution_count": 30,
   "metadata": {
    "tags": []
   },
   "outputs": [],
   "source": [
    "misspell_candidates = []\n",
    "correction_candidates = []\n",
    "misspell_counts = []\n",
    "correction_counts = []\n",
    "misspell_length = []\n",
    "correction_length = []\n",
    "misspell_initial = []\n",
    "correction_initial = []\n",
    "\n",
    "\n",
    "#consider word with low count as misspelling condidates, with high count as correctly spelled candidates. \n",
    "for k, v in word_list.items():\n",
    "    if v <= quantiles[0.2] : #if v == 1:  # this number based on quantile analysis and the data set, more-likely with user-behvaiour data set to be 1\n",
    "        misspell_candidates.append(k)\n",
    "        misspell_counts.append(v)\n",
    "        misspell_length.append(len(k))\n",
    "        misspell_initial.append(k[0])\n",
    "    if v >= quantiles[0.8]:\n",
    "        correction_candidates.append(k)\n",
    "        correction_counts.append(v)\n",
    "        correction_length.append(len(k))\n",
    "        correction_initial.append(k[0])"
   ]
  },
  {
   "cell_type": "code",
   "execution_count": 31,
   "metadata": {
    "tags": []
   },
   "outputs": [],
   "source": [
    "misspell_candidates_df = pd.DataFrame({\n",
    "    \"misspell\":misspell_candidates, \n",
    "    \"misspell_counts\":misspell_counts, \n",
    "    \"misspell_length\":misspell_length,\n",
    "    \"initial\":misspell_initial})\n",
    "\n",
    "correction_candidates_df = pd.DataFrame({\n",
    "    \"correction\":correction_candidates, \n",
    "    \"correction_counts\":correction_counts, \n",
    "    \"correction_length\":correction_length,\n",
    "    \"initial\":correction_initial})"
   ]
  },
  {
   "cell_type": "code",
   "execution_count": 32,
   "metadata": {
    "tags": []
   },
   "outputs": [
    {
     "data": {
      "text/html": [
       "<div>\n",
       "<style scoped>\n",
       "    .dataframe tbody tr th:only-of-type {\n",
       "        vertical-align: middle;\n",
       "    }\n",
       "\n",
       "    .dataframe tbody tr th {\n",
       "        vertical-align: top;\n",
       "    }\n",
       "\n",
       "    .dataframe thead th {\n",
       "        text-align: right;\n",
       "    }\n",
       "</style>\n",
       "<table border=\"1\" class=\"dataframe\">\n",
       "  <thead>\n",
       "    <tr style=\"text-align: right;\">\n",
       "      <th></th>\n",
       "      <th>misspell</th>\n",
       "      <th>misspell_counts</th>\n",
       "      <th>misspell_length</th>\n",
       "      <th>initial</th>\n",
       "    </tr>\n",
       "  </thead>\n",
       "  <tbody>\n",
       "    <tr>\n",
       "      <th>0</th>\n",
       "      <td>misery</td>\n",
       "      <td>5</td>\n",
       "      <td>6</td>\n",
       "      <td>m</td>\n",
       "    </tr>\n",
       "    <tr>\n",
       "      <th>1</th>\n",
       "      <td>profile</td>\n",
       "      <td>5</td>\n",
       "      <td>7</td>\n",
       "      <td>p</td>\n",
       "    </tr>\n",
       "    <tr>\n",
       "      <th>2</th>\n",
       "      <td>financial</td>\n",
       "      <td>6</td>\n",
       "      <td>9</td>\n",
       "      <td>f</td>\n",
       "    </tr>\n",
       "    <tr>\n",
       "      <th>3</th>\n",
       "      <td>dinosaur</td>\n",
       "      <td>6</td>\n",
       "      <td>8</td>\n",
       "      <td>d</td>\n",
       "    </tr>\n",
       "    <tr>\n",
       "      <th>4</th>\n",
       "      <td>raekwon</td>\n",
       "      <td>5</td>\n",
       "      <td>7</td>\n",
       "      <td>r</td>\n",
       "    </tr>\n",
       "    <tr>\n",
       "      <th>5</th>\n",
       "      <td>hurt</td>\n",
       "      <td>6</td>\n",
       "      <td>4</td>\n",
       "      <td>h</td>\n",
       "    </tr>\n",
       "    <tr>\n",
       "      <th>6</th>\n",
       "      <td>grinch</td>\n",
       "      <td>6</td>\n",
       "      <td>6</td>\n",
       "      <td>g</td>\n",
       "    </tr>\n",
       "    <tr>\n",
       "      <th>7</th>\n",
       "      <td>lexar</td>\n",
       "      <td>5</td>\n",
       "      <td>5</td>\n",
       "      <td>l</td>\n",
       "    </tr>\n",
       "    <tr>\n",
       "      <th>8</th>\n",
       "      <td>italian</td>\n",
       "      <td>6</td>\n",
       "      <td>7</td>\n",
       "      <td>i</td>\n",
       "    </tr>\n",
       "    <tr>\n",
       "      <th>9</th>\n",
       "      <td>1350lmt</td>\n",
       "      <td>6</td>\n",
       "      <td>7</td>\n",
       "      <td>1</td>\n",
       "    </tr>\n",
       "  </tbody>\n",
       "</table>\n",
       "</div>"
      ],
      "text/plain": [
       "    misspell  misspell_counts  misspell_length initial\n",
       "0     misery                5                6       m\n",
       "1    profile                5                7       p\n",
       "2  financial                6                9       f\n",
       "3   dinosaur                6                8       d\n",
       "4    raekwon                5                7       r\n",
       "5       hurt                6                4       h\n",
       "6     grinch                6                6       g\n",
       "7      lexar                5                5       l\n",
       "8    italian                6                7       i\n",
       "9    1350lmt                6                7       1"
      ]
     },
     "execution_count": 32,
     "metadata": {},
     "output_type": "execute_result"
    }
   ],
   "source": [
    "#Show Results:\n",
    "misspell_candidates_df.head(10)"
   ]
  },
  {
   "cell_type": "markdown",
   "metadata": {},
   "source": [
    "We calculate the edit distance for the misspelled word and the correct word"
   ]
  },
  {
   "cell_type": "code",
   "execution_count": 33,
   "metadata": {
    "tags": []
   },
   "outputs": [],
   "source": [
    "def good_match(len1, len2, edit_dist): #allow longer words have more edit distance\n",
    "    match = 0\n",
    "    min_length = min(len1, len2)\n",
    "    if min_length < 8:\n",
    "        if edit_dist == 1: match = 1\n",
    "    elif min_length < 11:\n",
    "        if edit_dist <= 2: match = 1\n",
    "    else:\n",
    "        if edit_dist == 3: match = 1\n",
    "    return match"
   ]
  },
  {
   "cell_type": "code",
   "execution_count": 34,
   "metadata": {
    "tags": []
   },
   "outputs": [],
   "source": [
    "matches_candidates = pd.merge(misspell_candidates_df, correction_candidates_df, on=\"initial\")\n",
    "#join missepll list with correction list based on whether they share the same initials to reduce matching time. \n",
    "matches_candidates[\"edit_dist\"] = matches_candidates.apply(\n",
    "    lambda row: nltk.edit_distance(row.misspell,row.correction), axis=1)\n",
    "matches_candidates[\"good_match\"] = matches_candidates.apply(\n",
    "    lambda row: good_match(row.misspell_length, row.correction_length, row.edit_dist),axis=1)"
   ]
  },
  {
   "cell_type": "code",
   "execution_count": 35,
   "metadata": {
    "tags": []
   },
   "outputs": [],
   "source": [
    "matches = matches_candidates[matches_candidates[\"good_match\"] == 1].drop([\"initial\",\"good_match\"],axis=1)"
   ]
  },
  {
   "cell_type": "markdown",
   "metadata": {
    "tags": []
   },
   "source": [
    "### We prefer shorter edit distance and having higher frequency counts."
   ]
  },
  {
   "cell_type": "code",
   "execution_count": 36,
   "metadata": {
    "tags": []
   },
   "outputs": [],
   "source": [
    "matches_final = matches.groupby('misspell').first().reset_index()"
   ]
  },
  {
   "cell_type": "code",
   "execution_count": 37,
   "metadata": {
    "tags": []
   },
   "outputs": [
    {
     "data": {
      "text/html": [
       "<div>\n",
       "<style scoped>\n",
       "    .dataframe tbody tr th:only-of-type {\n",
       "        vertical-align: middle;\n",
       "    }\n",
       "\n",
       "    .dataframe tbody tr th {\n",
       "        vertical-align: top;\n",
       "    }\n",
       "\n",
       "    .dataframe thead th {\n",
       "        text-align: right;\n",
       "    }\n",
       "</style>\n",
       "<table border=\"1\" class=\"dataframe\">\n",
       "  <thead>\n",
       "    <tr style=\"text-align: right;\">\n",
       "      <th></th>\n",
       "      <th>misspell</th>\n",
       "      <th>correction</th>\n",
       "      <th>misspell_counts</th>\n",
       "      <th>correction_counts</th>\n",
       "      <th>edit_dist</th>\n",
       "    </tr>\n",
       "  </thead>\n",
       "  <tbody>\n",
       "    <tr>\n",
       "      <th>50</th>\n",
       "      <td>iphone3</td>\n",
       "      <td>iphone</td>\n",
       "      <td>6</td>\n",
       "      <td>16854</td>\n",
       "      <td>1</td>\n",
       "    </tr>\n",
       "    <tr>\n",
       "      <th>61</th>\n",
       "      <td>laptopa</td>\n",
       "      <td>laptop</td>\n",
       "      <td>6</td>\n",
       "      <td>14119</td>\n",
       "      <td>1</td>\n",
       "    </tr>\n",
       "    <tr>\n",
       "      <th>62</th>\n",
       "      <td>latop</td>\n",
       "      <td>laptop</td>\n",
       "      <td>5</td>\n",
       "      <td>14119</td>\n",
       "      <td>1</td>\n",
       "    </tr>\n",
       "    <tr>\n",
       "      <th>136</th>\n",
       "      <td>toucpad</td>\n",
       "      <td>touchpad</td>\n",
       "      <td>6</td>\n",
       "      <td>11550</td>\n",
       "      <td>1</td>\n",
       "    </tr>\n",
       "    <tr>\n",
       "      <th>137</th>\n",
       "      <td>touxhpad</td>\n",
       "      <td>touchpad</td>\n",
       "      <td>5</td>\n",
       "      <td>11550</td>\n",
       "      <td>1</td>\n",
       "    </tr>\n",
       "    <tr>\n",
       "      <th>148</th>\n",
       "      <td>wirless</td>\n",
       "      <td>wireless</td>\n",
       "      <td>6</td>\n",
       "      <td>10060</td>\n",
       "      <td>1</td>\n",
       "    </tr>\n",
       "    <tr>\n",
       "      <th>127</th>\n",
       "      <td>tableta</td>\n",
       "      <td>tablet</td>\n",
       "      <td>6</td>\n",
       "      <td>8260</td>\n",
       "      <td>1</td>\n",
       "    </tr>\n",
       "    <tr>\n",
       "      <th>8</th>\n",
       "      <td>cage</td>\n",
       "      <td>case</td>\n",
       "      <td>6</td>\n",
       "      <td>7541</td>\n",
       "      <td>1</td>\n",
       "    </tr>\n",
       "    <tr>\n",
       "      <th>10</th>\n",
       "      <td>cape</td>\n",
       "      <td>case</td>\n",
       "      <td>5</td>\n",
       "      <td>7541</td>\n",
       "      <td>1</td>\n",
       "    </tr>\n",
       "    <tr>\n",
       "      <th>30</th>\n",
       "      <td>gallaxy</td>\n",
       "      <td>galaxy</td>\n",
       "      <td>6</td>\n",
       "      <td>5839</td>\n",
       "      <td>1</td>\n",
       "    </tr>\n",
       "    <tr>\n",
       "      <th>64</th>\n",
       "      <td>loptops</td>\n",
       "      <td>laptops</td>\n",
       "      <td>5</td>\n",
       "      <td>5565</td>\n",
       "      <td>1</td>\n",
       "    </tr>\n",
       "    <tr>\n",
       "      <th>90</th>\n",
       "      <td>potable</td>\n",
       "      <td>portable</td>\n",
       "      <td>6</td>\n",
       "      <td>4477</td>\n",
       "      <td>1</td>\n",
       "    </tr>\n",
       "    <tr>\n",
       "      <th>5</th>\n",
       "      <td>bluetooh</td>\n",
       "      <td>bluetooth</td>\n",
       "      <td>5</td>\n",
       "      <td>4461</td>\n",
       "      <td>1</td>\n",
       "    </tr>\n",
       "    <tr>\n",
       "      <th>146</th>\n",
       "      <td>wats</td>\n",
       "      <td>wars</td>\n",
       "      <td>5</td>\n",
       "      <td>4179</td>\n",
       "      <td>1</td>\n",
       "    </tr>\n",
       "    <tr>\n",
       "      <th>56</th>\n",
       "      <td>kimdle</td>\n",
       "      <td>kindle</td>\n",
       "      <td>5</td>\n",
       "      <td>4129</td>\n",
       "      <td>1</td>\n",
       "    </tr>\n",
       "    <tr>\n",
       "      <th>99</th>\n",
       "      <td>rauter</td>\n",
       "      <td>router</td>\n",
       "      <td>5</td>\n",
       "      <td>4067</td>\n",
       "      <td>1</td>\n",
       "    </tr>\n",
       "    <tr>\n",
       "      <th>77</th>\n",
       "      <td>modum</td>\n",
       "      <td>modem</td>\n",
       "      <td>6</td>\n",
       "      <td>3590</td>\n",
       "      <td>1</td>\n",
       "    </tr>\n",
       "    <tr>\n",
       "      <th>135</th>\n",
       "      <td>tosheba</td>\n",
       "      <td>toshiba</td>\n",
       "      <td>6</td>\n",
       "      <td>3432</td>\n",
       "      <td>1</td>\n",
       "    </tr>\n",
       "    <tr>\n",
       "      <th>34</th>\n",
       "      <td>gates</td>\n",
       "      <td>games</td>\n",
       "      <td>6</td>\n",
       "      <td>3239</td>\n",
       "      <td>1</td>\n",
       "    </tr>\n",
       "    <tr>\n",
       "      <th>84</th>\n",
       "      <td>phono</td>\n",
       "      <td>phone</td>\n",
       "      <td>5</td>\n",
       "      <td>3065</td>\n",
       "      <td>1</td>\n",
       "    </tr>\n",
       "  </tbody>\n",
       "</table>\n",
       "</div>"
      ],
      "text/plain": [
       "     misspell correction  misspell_counts  correction_counts  edit_dist\n",
       "50    iphone3     iphone                6              16854          1\n",
       "61    laptopa     laptop                6              14119          1\n",
       "62      latop     laptop                5              14119          1\n",
       "136   toucpad   touchpad                6              11550          1\n",
       "137  touxhpad   touchpad                5              11550          1\n",
       "148   wirless   wireless                6              10060          1\n",
       "127   tableta     tablet                6               8260          1\n",
       "8        cage       case                6               7541          1\n",
       "10       cape       case                5               7541          1\n",
       "30    gallaxy     galaxy                6               5839          1\n",
       "64    loptops    laptops                5               5565          1\n",
       "90    potable   portable                6               4477          1\n",
       "5    bluetooh  bluetooth                5               4461          1\n",
       "146      wats       wars                5               4179          1\n",
       "56     kimdle     kindle                5               4129          1\n",
       "99     rauter     router                5               4067          1\n",
       "77      modum      modem                6               3590          1\n",
       "135   tosheba    toshiba                6               3432          1\n",
       "34      gates      games                6               3239          1\n",
       "84      phono      phone                5               3065          1"
      ]
     },
     "execution_count": 37,
     "metadata": {},
     "output_type": "execute_result"
    }
   ],
   "source": [
    "matches_final.sort_values(by=['correction_counts'], ascending=[False])[[\"misspell\", \"correction\", \"misspell_counts\", \"correction_counts\", \"edit_dist\"]].head(20)"
   ]
  },
  {
   "cell_type": "markdown",
   "metadata": {},
   "source": []
  },
  {
   "cell_type": "code",
   "execution_count": null,
   "metadata": {},
   "outputs": [],
   "source": []
  }
 ],
 "metadata": {
  "kernelspec": {
   "display_name": "Python 3 (ipykernel)",
   "language": "python",
   "name": "python3"
  },
  "language_info": {
   "codemirror_mode": {
    "name": "ipython",
    "version": 3
   },
   "file_extension": ".py",
   "mimetype": "text/x-python",
   "name": "python",
   "nbconvert_exporter": "python",
   "pygments_lexer": "ipython3",
   "version": "3.10.9"
  }
 },
 "nbformat": 4,
 "nbformat_minor": 4
}
